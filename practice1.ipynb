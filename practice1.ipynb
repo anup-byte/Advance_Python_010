{
 "cells": [
  {
   "cell_type": "markdown",
   "metadata": {},
   "source": [
    "Public, Protected and Private\n",
    "In Python there is no strict concept of public, protected and private variables as we might find in some other programming languages like java or c++."
   ]
  },
  {
   "cell_type": "code",
   "execution_count": 1,
   "metadata": {},
   "outputs": [
    {
     "name": "stdout",
     "output_type": "stream",
     "text": [
      "I am a public variable\n"
     ]
    }
   ],
   "source": [
    "class Myclass:\n",
    "    \n",
    "    def __init__(self):\n",
    "        self.my_var = \"I am a public variable\"\n",
    "\n",
    "obj = Myclass()\n",
    "print(obj.my_var)        "
   ]
  },
  {
   "cell_type": "markdown",
   "metadata": {},
   "source": [
    "Conventionally,  variables starting with a single underscore are considered protected, but still they are accessible"
   ]
  },
  {
   "cell_type": "code",
   "execution_count": 2,
   "metadata": {},
   "outputs": [
    {
     "name": "stdout",
     "output_type": "stream",
     "text": [
      "I am a protected variable\n"
     ]
    }
   ],
   "source": [
    "class Myclass1:\n",
    "\n",
    "    def __init__(self):\n",
    "        self._protected_var = \"I am a protected variable\"\n",
    "\n",
    "obj = Myclass1()\n",
    "print(obj._protected_var)   # Accessible, but it is a convention to treat it as protected      "
   ]
  },
  {
   "cell_type": "markdown",
   "metadata": {},
   "source": [
    "Variables starting with a double underscore are considered private. Python performs name mangling to make it difficult , but not impossible to access them directly."
   ]
  },
  {
   "cell_type": "code",
   "execution_count": 3,
   "metadata": {},
   "outputs": [
    {
     "ename": "AttributeError",
     "evalue": "'Myclass2' object has no attribute '__private_var'",
     "output_type": "error",
     "traceback": [
      "\u001b[0;31m---------------------------------------------------------------------------\u001b[0m",
      "\u001b[0;31mAttributeError\u001b[0m                            Traceback (most recent call last)",
      "\u001b[1;32m/Users/anupjha/Desktop/Advance_Python_010/practice1.ipynb Cell 6\u001b[0m line \u001b[0;36m7\n\u001b[1;32m      <a href='vscode-notebook-cell:/Users/anupjha/Desktop/Advance_Python_010/practice1.ipynb#W3sZmlsZQ%3D%3D?line=3'>4</a>\u001b[0m         \u001b[39mself\u001b[39m\u001b[39m.\u001b[39m__private_var \u001b[39m=\u001b[39m \u001b[39m\"\u001b[39m\u001b[39mI am a private variable\u001b[39m\u001b[39m\"\u001b[39m\n\u001b[1;32m      <a href='vscode-notebook-cell:/Users/anupjha/Desktop/Advance_Python_010/practice1.ipynb#W3sZmlsZQ%3D%3D?line=5'>6</a>\u001b[0m obj \u001b[39m=\u001b[39m Myclass2()\n\u001b[0;32m----> <a href='vscode-notebook-cell:/Users/anupjha/Desktop/Advance_Python_010/practice1.ipynb#W3sZmlsZQ%3D%3D?line=6'>7</a>\u001b[0m \u001b[39mprint\u001b[39m(obj\u001b[39m.\u001b[39;49m__private_var)\n",
      "\u001b[0;31mAttributeError\u001b[0m: 'Myclass2' object has no attribute '__private_var'"
     ]
    }
   ],
   "source": [
    "class Myclass2:\n",
    "\n",
    "    def __init__(self):\n",
    "        self.__private_var = \"I am a private variable\"\n",
    "\n",
    "obj = Myclass2()\n",
    "print(obj.__private_var)"
   ]
  },
  {
   "cell_type": "code",
   "execution_count": 5,
   "metadata": {},
   "outputs": [
    {
     "name": "stdout",
     "output_type": "stream",
     "text": [
      "I am a private variable\n"
     ]
    }
   ],
   "source": [
    "class Myclass2:\n",
    "\n",
    "    def __init__(self):\n",
    "        self.__private_var = \"I am a private variable\"\n",
    "\n",
    "obj = Myclass2()\n",
    "#print(obj.__private_var)\n",
    "print(obj._Myclass2__private_var) # Not recommended for outside access "
   ]
  },
  {
   "cell_type": "code",
   "execution_count": null,
   "metadata": {},
   "outputs": [],
   "source": []
  },
  {
   "cell_type": "code",
   "execution_count": null,
   "metadata": {},
   "outputs": [],
   "source": []
  },
  {
   "cell_type": "code",
   "execution_count": null,
   "metadata": {},
   "outputs": [],
   "source": []
  },
  {
   "cell_type": "code",
   "execution_count": null,
   "metadata": {},
   "outputs": [],
   "source": []
  },
  {
   "cell_type": "code",
   "execution_count": null,
   "metadata": {},
   "outputs": [],
   "source": []
  },
  {
   "cell_type": "markdown",
   "metadata": {},
   "source": []
  }
 ],
 "metadata": {
  "kernelspec": {
   "display_name": "Python 3",
   "language": "python",
   "name": "python3"
  },
  "language_info": {
   "codemirror_mode": {
    "name": "ipython",
    "version": 3
   },
   "file_extension": ".py",
   "mimetype": "text/x-python",
   "name": "python",
   "nbconvert_exporter": "python",
   "pygments_lexer": "ipython3",
   "version": "3.11.3"
  }
 },
 "nbformat": 4,
 "nbformat_minor": 2
}
